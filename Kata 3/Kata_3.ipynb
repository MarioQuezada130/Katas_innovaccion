{
 "cells": [
  {
   "cell_type": "markdown",
   "metadata": {},
   "source": [
    "# Kata 3  🌀"
   ]
  },
  {
   "cell_type": "markdown",
   "metadata": {},
   "source": [
    "Ejercicio - Escribir declaraciones if, else, y elif\n",
    "\n",
    "Para este ejercicio, escribirás una lógica condicional que imprima una advertencia si un asteroide se acerca a la Tierra demasiado rápido. La velocidad del asteroide varía dependiendo de lo cerca que esté del sol, y cualquier velocidad superior a 25 kilómetros por segundo (km/s) merece una advertencia.\n",
    "\n",
    "Un asteroide se acerca, y viaja a una velocidad de 49 km/s."
   ]
  },
  {
   "cell_type": "markdown",
   "metadata": {},
   "source": [
    "# Problema No. 1 🌑"
   ]
  },
  {
   "cell_type": "code",
   "execution_count": null,
   "metadata": {},
   "outputs": [],
   "source": [
    "# Añadir el código necesario para crear una variable que guarde la velocidad del asteroide.\n",
    "vel_normal_asteroide = 25 #km/s\n",
    "vel_alerta_asteroide = 49 #km/s\n",
    "# Escribe una expresión de prueba para calcular si necesita una advertencia.\n",
    "if vel_alerta_asteroide > vel_normal_asteroide:\n",
    "    print(\"Un asteroide se acerca, y viaja a una velocidad de 49 km/s.\")\n",
    "else:\n",
    "    print(\"No hay peligro de colisión\")\n"
   ]
  },
  {
   "cell_type": "markdown",
   "metadata": {},
   "source": [
    "# Problema No. 2 🌑"
   ]
  },
  {
   "cell_type": "code",
   "execution_count": null,
   "metadata": {},
   "outputs": [],
   "source": [
    "# Agrega el código para crear una variable para un asteroide que viaja a 19 km/s\n",
    "asteroide_normal = 19 #km/s \n",
    "asteroide_alerta = 20 #km/s\n",
    "# Escribe varias expresiones de prueba para determinar si puedes ver el rayo de luz desde la tierra\n",
    "if asteroide_normal > asteroide_alerta:\n",
    "    print(\"Un asteroide esta por llegar a la atmosfera terrestre\")\n",
    "elif asteroide_normal < asteroide_alerta:\n",
    "    print(\"Un asteroide esta entrando en la atmosfera terrestre\")\n",
    "else:\n",
    "    print(\"No hay ningun asteroide a la vista\")"
   ]
  },
  {
   "cell_type": "markdown",
   "metadata": {},
   "source": [
    "# Problema No. 3  🌑"
   ]
  },
  {
   "cell_type": "code",
   "execution_count": null,
   "metadata": {},
   "outputs": [],
   "source": [
    "# Agrega el código para crear nuevas variables para la velocidad y el tamaño del asteroide\n",
    "asteroide_vel = 25 #mts\n",
    "tamaño_asteroide = 100\n",
    "# Agrega el código para crear nuevas variables para la velocidad y el tamaño del asteroide\n",
    "if asteroide_vel == 19 and tamaño_asteroide == 20:\n",
    "    print(\"Asteroide inofencivo! Tamaño y velocidad normales\")\n",
    "elif asteroide_vel > 20 or tamaño_asteroide > 40:\n",
    "    print(\"Asteroide con tamaño y velocidad peligrosas\")\n",
    "else:\n",
    "    print(\"No hay ningun asteroide a la vista\")"
   ]
  }
 ],
 "metadata": {
  "interpreter": {
   "hash": "8917c821dc6d2a9f6c61da8961d9f206517f56b7ec77e736de2b5db2693ccb12"
  },
  "kernelspec": {
   "display_name": "Python 3.9.7 ('base')",
   "language": "python",
   "name": "python3"
  },
  "language_info": {
   "codemirror_mode": {
    "name": "ipython",
    "version": 3
   },
   "file_extension": ".py",
   "mimetype": "text/x-python",
   "name": "python",
   "nbconvert_exporter": "python",
   "pygments_lexer": "ipython3",
   "version": "3.9.7"
  },
  "orig_nbformat": 4
 },
 "nbformat": 4,
 "nbformat_minor": 2
}
