{
 "cells": [
  {
   "cell_type": "markdown",
   "metadata": {},
   "source": [
    "# Kata 5 ➗"
   ]
  },
  {
   "cell_type": "markdown",
   "metadata": {},
   "source": [
    "Ejercicio1 - Utilizar operadores aritméticos"
   ]
  },
  {
   "cell_type": "code",
   "execution_count": 9,
   "metadata": {},
   "outputs": [],
   "source": [
    "# Crear variables para almacenar las dos distancias\n",
    "Earth = 149597870 #km\n",
    "jupiter = 778547200 #Km\n",
    "\n",
    "#Realizar operación\n",
    "distance = abs(Earth - jupiter)\n",
    "distance_mi = round(abs(distance * 0.621))\n"
   ]
  },
  {
   "cell_type": "markdown",
   "metadata": {},
   "source": [
    "Ejercicio 2: convierte cadenas en números y usa valores absolutos"
   ]
  },
  {
   "cell_type": "code",
   "execution_count": 14,
   "metadata": {},
   "outputs": [],
   "source": [
    "# Almacenar las entradas del usuario\n",
    "planeta_1 = input(\"Ingresar la distancia del planeta 1\")\n",
    "planeta_2 = input(\"Ingresar la distancia del planeta 2\")\n",
    "\n",
    "# Convierte las cadenas de ambos planetas a números enteros\n",
    "valor_planeta_1 = int(planeta_1)\n",
    "valor_planeta_2 = int(planeta_2)\n",
    "\n",
    "# Realizar el cálculo y determinar el valor absoluto\n",
    "distance = abs(valor_planeta_1 - valor_planeta_2)\n",
    "\n",
    "# Convertir de KM a Millas\n",
    "distance_mi = round(abs(distance * 0.621))"
   ]
  }
 ],
 "metadata": {
  "interpreter": {
   "hash": "8917c821dc6d2a9f6c61da8961d9f206517f56b7ec77e736de2b5db2693ccb12"
  },
  "kernelspec": {
   "display_name": "Python 3.9.7 ('base')",
   "language": "python",
   "name": "python3"
  },
  "language_info": {
   "codemirror_mode": {
    "name": "ipython",
    "version": 3
   },
   "file_extension": ".py",
   "mimetype": "text/x-python",
   "name": "python",
   "nbconvert_exporter": "python",
   "pygments_lexer": "ipython3",
   "version": "3.9.7"
  },
  "orig_nbformat": 4
 },
 "nbformat": 4,
 "nbformat_minor": 2
}
