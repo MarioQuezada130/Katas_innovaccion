{
 "cells": [
  {
   "cell_type": "markdown",
   "metadata": {},
   "source": [
    "# Kata_02 🐍\n"
   ]
  },
  {
   "cell_type": "markdown",
   "metadata": {},
   "source": [
    "# Crear un entorno virtual\n",
    "\n",
    "Ejecutar en su terminal: \n",
    "1. python3 -m venv env \n",
    "2. python -m venv env\n",
    "\n",
    "![title](1.jpg)"
   ]
  },
  {
   "cell_type": "markdown",
   "metadata": {},
   "source": [
    "Ahora tienes un directorio (folder) kata_2 creado en tu terminal.\n",
    "\n",
    "![title](2.jpg)"
   ]
  },
  {
   "cell_type": "markdown",
   "metadata": {},
   "source": [
    "Ejecuta el comando para activar el entorno virtual: \n",
    "\n",
    "![title](3.jpg)\n",
    "\n",
    "Ahora ves en tu terminal (kata_2). Eso significa que has activado tu entorno virtual y se ha aislado del resto de tu máquina.\n",
    "\n",
    "\n"
   ]
  },
  {
   "cell_type": "markdown",
   "metadata": {},
   "source": [
    "# Instalar una biblioteca\n",
    "\n",
    "1. Ahora que estás dentro de tu entorno virtual, puedes instalar una biblioteca y saber que la biblioteca solo existirá en el entorno virtual.\n",
    "\n",
    "\n",
    "2. Ejecuta el comando pip freeze para ver las bibliotecas instaladas en tu entorno:\n",
    "\n",
    "\n",
    "![title](4.jpg)\n",
    "\n",
    "No deberías obtener respuesta. A continuación, veamos cómo cambia la salida de pip freeze cuando se agrega una biblioteca (un paquete).\n",
    "\n",
    "3. Ejecuta el comando pip install para instalar una biblioteca:  \n",
    "                pip install python-dateutil\n",
    "\n",
    "![title](5.jpg)\n",
    "\n",
    "\n",
    "Un gran mensaje de salida de texto dice que está instalando tu biblioteca, y debe terminar con la siguiente oración:\n",
    "\n",
    "            Successfully installed python-dateutil-2.8.2 six-1.16.0\n",
    "\n",
    "\n",
    "\n"
   ]
  },
  {
   "cell_type": "markdown",
   "metadata": {},
   "source": [
    "# Revisión de instalación de la bilbioteca \n",
    "\n",
    "Vuelve a ejecutar pip freeze para ver cómo ha cambiado tu lista de bibliotecas:\n",
    "\n",
    "![title](6.jpg)\n",
    "\n"
   ]
  },
  {
   "cell_type": "markdown",
   "metadata": {},
   "source": [
    "# Desactivar un entorno virtual\n",
    "\n",
    "![title](7.jpg)\n",
    "\n"
   ]
  }
 ],
 "metadata": {
  "language_info": {
   "name": "python"
  },
  "orig_nbformat": 4
 },
 "nbformat": 4,
 "nbformat_minor": 2
}
